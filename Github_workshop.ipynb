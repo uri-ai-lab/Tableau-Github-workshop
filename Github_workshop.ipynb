{
  "nbformat": 4,
  "nbformat_minor": 0,
  "metadata": {
    "colab": {
      "provenance": [],
      "include_colab_link": true
    },
    "kernelspec": {
      "name": "python3",
      "display_name": "Python 3"
    },
    "language_info": {
      "name": "python"
    }
  },
  "cells": [
    {
      "cell_type": "markdown",
      "metadata": {
        "id": "view-in-github",
        "colab_type": "text"
      },
      "source": [
        "<a href=\"https://colab.research.google.com/github/uri-ai-lab/Tableau-Github-workshop/blob/main/Github_workshop.ipynb\" target=\"_parent\"><img src=\"https://colab.research.google.com/assets/colab-badge.svg\" alt=\"Open In Colab\"/></a>"
      ]
    },
    {
      "cell_type": "markdown",
      "source": [
        "#Github Workshop\n",
        "\n",
        "## What is Git?...\n",
        "\n",
        "\n",
        "## Git vs GitHub?...\n",
        "\n",
        "git and GitHub are not the same thing. Git is an open-source, version control tool created in 2005 by developers working on the Linux operating system; GitHub is a company founded in 2008 that makes tools which integrate with git. You do not need GitHub to use git, but you cannot use GitHub without using git. There are many other alternatives to GitHub, such as GitLab, BitBucket, and “host-your-own” solutions such as gogs and gittea."
      ],
      "metadata": {
        "id": "IV94-z7ffuYu"
      }
    },
    {
      "cell_type": "markdown",
      "source": [
        "## 1. Installing Git\n",
        "\n",
        "###Check your version of Git\n",
        "\n",
        "You can check your current version of Git by running the git --version command in a terminal (Linux, macOS) or command prompt (Windows).\n",
        "\n",
        "For example:\n",
        "```\n",
        "git --version\n",
        "git version 2.7.4\n",
        "```\n",
        "\n",
        "### Download and install Git\n",
        "\n",
        "[Install Git](https://git-scm.com/book/en/v2/Getting-Started-Installing-Git)"
      ],
      "metadata": {
        "id": "deabkxG7f9ft"
      }
    },
    {
      "cell_type": "markdown",
      "source": [
        "## 2. Creating a GitHub account\n",
        "\n",
        "Create an account at GitHub3 (if you haven’t already) using your @uri.edu (or any) email or go to https://github.com/settings/emails if you want to add your email to an existing account. You must verify your email address with GitHub.\n",
        "\n",
        "[GitHub sign-up](https://github.com/)"
      ],
      "metadata": {
        "id": "EbE6C4MOp_zP"
      }
    },
    {
      "cell_type": "markdown",
      "source": [
        "## 3. Create a new repository\n",
        "\n",
        "### Using Git:\n",
        "\n",
        "```\n",
        "$ cd /Users/user/my_project # Navigate to the project directory\n",
        "$ git init # Create the repository\n",
        "```\n",
        "\n",
        "### Using GitHub:\n",
        "\n"
      ],
      "metadata": {
        "id": "cErTIhdDsumN"
      }
    }
  ]
}